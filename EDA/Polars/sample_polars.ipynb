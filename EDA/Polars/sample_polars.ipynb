{
 "cells": [
  {
   "metadata": {},
   "cell_type": "markdown",
   "source": [
    "## Polars\n",
    "#### Comparing Polars and Pandas"
   ],
   "id": "73472d7ab7f8d4de"
  },
  {
   "metadata": {
    "ExecuteTime": {
     "end_time": "2024-09-27T03:44:06.675492Z",
     "start_time": "2024-09-27T03:44:06.161362Z"
    }
   },
   "cell_type": "code",
   "source": [
    "from dataclasses import dataclass\n",
    "from datetime import datetime, timedelta\n",
    "from random import choice, gauss, randrange, seed\n",
    "from typing import Any, Dict\n",
    "\n",
    "import polars as pl\n",
    "import pandas as pd\n",
    "\n",
    "seed(42)"
   ],
   "id": "87881bb3f535d061",
   "outputs": [],
   "execution_count": 1
  },
  {
   "metadata": {},
   "cell_type": "markdown",
   "source": "#### Generating Data\n",
   "id": "640ecae3f07e3f5b"
  },
  {
   "metadata": {
    "ExecuteTime": {
     "end_time": "2024-09-27T03:44:08.942344Z",
     "start_time": "2024-09-27T03:44:08.935273Z"
    }
   },
   "cell_type": "code",
   "source": [
    "product_catalog_data = {\"product_id\": [\"0001\", \"0002\", \"0003\"], \"price\": [100, 25, 80]}\n",
    "product_catalog_data"
   ],
   "id": "67e0454595108881",
   "outputs": [
    {
     "data": {
      "text/plain": [
       "{'product_id': ['0001', '0002', '0003'], 'price': [100, 25, 80]}"
      ]
     },
     "execution_count": 2,
     "metadata": {},
     "output_type": "execute_result"
    }
   ],
   "execution_count": 2
  },
  {
   "metadata": {},
   "cell_type": "markdown",
   "source": "#### Pandas DataFrame",
   "id": "acbb923e5fa10913"
  },
  {
   "metadata": {
    "ExecuteTime": {
     "end_time": "2024-09-27T03:44:12.851775Z",
     "start_time": "2024-09-27T03:44:12.475071Z"
    }
   },
   "cell_type": "code",
   "source": [
    "# Pandas\n",
    "user_actions_pd_df = pd.DataFrame(user_actions_data)\n",
    "corrupted_pd_df = pd.DataFrame(corrupted_data)\n",
    "product_catalog_pd_df = pd.DataFrame(product_catalog_data)\n",
    "product_catalog_pd_df\n",
    "\n"
   ],
   "id": "152f641acef425c9",
   "outputs": [
    {
     "ename": "NameError",
     "evalue": "name 'user_actions_data' is not defined",
     "output_type": "error",
     "traceback": [
      "\u001B[1;31m---------------------------------------------------------------------------\u001B[0m",
      "\u001B[1;31mNameError\u001B[0m                                 Traceback (most recent call last)",
      "Cell \u001B[1;32mIn[3], line 2\u001B[0m\n\u001B[0;32m      1\u001B[0m \u001B[38;5;66;03m# Pandas\u001B[39;00m\n\u001B[1;32m----> 2\u001B[0m user_actions_pd_df \u001B[38;5;241m=\u001B[39m pd\u001B[38;5;241m.\u001B[39mDataFrame(user_actions_data)\n\u001B[0;32m      3\u001B[0m corrupted_pd_df \u001B[38;5;241m=\u001B[39m pd\u001B[38;5;241m.\u001B[39mDataFrame(corrupted_data)\n\u001B[0;32m      4\u001B[0m product_catalog_pd_df \u001B[38;5;241m=\u001B[39m pd\u001B[38;5;241m.\u001B[39mDataFrame(product_catalog_data)\n",
      "\u001B[1;31mNameError\u001B[0m: name 'user_actions_data' is not defined"
     ]
    }
   ],
   "execution_count": 3
  },
  {
   "metadata": {},
   "cell_type": "markdown",
   "source": "####  Polars DataFrame",
   "id": "882ad220b009cc01"
  },
  {
   "metadata": {},
   "cell_type": "markdown",
   "source": "####  Final DataFrame",
   "id": "7abc00ae12ba0758"
  },
  {
   "metadata": {},
   "cell_type": "code",
   "source": [
    "# Pandas\n",
    "user_actions_pd_df = pd.concat([user_actions_pd_df, corrupted_pd_df])\n",
    "user_actions_pd_df"
   ],
   "id": "b8560eb1616254c5",
   "outputs": [],
   "execution_count": null
  },
  {
   "metadata": {},
   "cell_type": "code",
   "source": [
    "user_actions_pl_df = pl.concat([user_actions_pl_df, corrupted_pl_df])\n",
    "user_actions_pl_df\n",
    "user_actions_pl_df.shape"
   ],
   "id": "d7190f950a7b23c1",
   "outputs": [],
   "execution_count": null
  },
  {
   "metadata": {},
   "cell_type": "markdown",
   "source": "### H5",
   "id": "47f203f03b800021"
  },
  {
   "metadata": {},
   "cell_type": "code",
   "source": "user_actions_pd_df.describe(include='all')",
   "id": "1cff81a464ee29f",
   "outputs": [],
   "execution_count": null
  },
  {
   "metadata": {},
   "cell_type": "markdown",
   "source": "### H6",
   "id": "8f271330a73b2239"
  },
  {
   "metadata": {},
   "cell_type": "code",
   "source": "user_actions_pl_df.describe()",
   "id": "1eb1ac1a94dbe67d",
   "outputs": [],
   "execution_count": null
  }
 ],
 "metadata": {
  "kernelspec": {
   "display_name": "Python 3",
   "language": "python",
   "name": "python3"
  },
  "language_info": {
   "codemirror_mode": {
    "name": "ipython",
    "version": 2
   },
   "file_extension": ".py",
   "mimetype": "text/x-python",
   "name": "python",
   "nbconvert_exporter": "python",
   "pygments_lexer": "ipython2",
   "version": "2.7.6"
  }
 },
 "nbformat": 4,
 "nbformat_minor": 5
}
